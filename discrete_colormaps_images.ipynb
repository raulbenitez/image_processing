{
  "nbformat": 4,
  "nbformat_minor": 0,
  "metadata": {
    "colab": {
      "provenance": [],
      "authorship_tag": "ABX9TyOK1RQZ2Sxq//SFWdgQsilk",
      "include_colab_link": true
    },
    "kernelspec": {
      "name": "python3",
      "display_name": "Python 3"
    },
    "language_info": {
      "name": "python"
    }
  },
  "cells": [
    {
      "cell_type": "markdown",
      "metadata": {
        "id": "view-in-github",
        "colab_type": "text"
      },
      "source": [
        "<a href=\"https://colab.research.google.com/github/raulbenitez/image_processing/blob/master/discrete_colormaps_images.ipynb\" target=\"_parent\"><img src=\"https://colab.research.google.com/assets/colab-badge.svg\" alt=\"Open In Colab\"/></a>"
      ]
    },
    {
      "cell_type": "code",
      "execution_count": 12,
      "metadata": {
        "colab": {
          "base_uri": "https://localhost:8080/",
          "height": 459
        },
        "id": "3-CHb9rlLeoZ",
        "outputId": "a705baae-f5b1-49ad-b31c-a73a756c120b"
      },
      "outputs": [
        {
          "output_type": "execute_result",
          "data": {
            "text/plain": [
              "(-0.5, 24.5, 24.5, -0.5)"
            ]
          },
          "metadata": {},
          "execution_count": 12
        },
        {
          "output_type": "display_data",
          "data": {
            "text/plain": [
              "<Figure size 1008x432 with 2 Axes>"
            ],
            "image/png": "[encoded data removed]"
          },
          "metadata": {
            "needs_background": "light"
          }
        }
      ],
      "source": [
        "import matplotlib.pyplot as plt\n",
        "import numpy as np\n",
        "from matplotlib.colors import ListedColormap\n",
        "\n",
        "I = np.random.randint(0,3,(25, 25))\n",
        "x = [0, 1, 2, 3] # range of pixel values in the image\n",
        "\n",
        "\n",
        "# colormap with blue colors\n",
        "colors = plt.get_cmap('Blues')(np.linspace(0.2, 0.7, len(x)))\n",
        "cmap1 = ListedColormap(colors)\n",
        "\n",
        "# colormap listing colors\n",
        "from matplotlib.colors import ListedColormap\n",
        "cmap2 = ListedColormap(['r', 'g', 'b','y'])\n",
        "\n",
        "\n",
        "fig, (ax1, ax2) = plt.subplots(ncols=2, figsize=(14, 6), sharex=True,\n",
        "                                   sharey=True)\n",
        "ax1.imshow(I, cmap=cmap1)\n",
        "ax1.set_title('colormap1')\n",
        "ax1.axis('off')\n",
        "ax2.imshow(I, cmap=cmap2)\n",
        "ax2.set_title('colormap2')\n",
        "ax2.axis('off')\n"
      ]
    }
  ]
}