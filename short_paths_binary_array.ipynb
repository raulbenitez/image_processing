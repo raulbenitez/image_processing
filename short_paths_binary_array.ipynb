{
  "nbformat": 4,
  "nbformat_minor": 0,
  "metadata": {
    "colab": {
      "name": "short_paths_binary_array.ipynb",
      "provenance": [],
      "authorship_tag": "ABX9TyPKtt/Zmnn28MDNl1wXZwQb",
      "include_colab_link": true
    },
    "kernelspec": {
      "name": "python3",
      "display_name": "Python 3"
    }
  },
  "cells": [
    {
      "cell_type": "markdown",
      "metadata": {
        "id": "view-in-github",
        "colab_type": "text"
      },
      "source": [
        "<a href=\"https://colab.research.google.com/github/raulbenitez/image_processing/blob/master/short_paths_binary_array.ipynb\" target=\"_parent\"><img src=\"https://colab.research.google.com/assets/colab-badge.svg\" alt=\"Open In Colab\"/></a>"
      ]
    },
    {
      "cell_type": "code",
      "metadata": {
        "colab": {
          "base_uri": "https://localhost:8080/"
        },
        "id": "zzJIfL3iOxHi",
        "outputId": "413d288e-fc6f-4d36-a704-85ec9580e72d"
      },
      "source": [
        "import numpy as np\n",
        "from skimage.graph import route_through_array\n",
        "\n",
        "image = np.array([[1, 3], [10, 12]])\n",
        "# Forbid diagonal steps\n",
        "route_through_array(image, [0, 0], [1, 1], fully_connected=False)\n",
        "([(0, 0), (0, 1), (1, 1)], 9.5)\n",
        "# Now allow diagonal steps: the path goes directly from start to end\n",
        "route_through_array(image, [0, 0], [1, 1])\n",
        "([(0, 0), (1, 1)], 9.19238815542512)\n",
        "# Cost is the sum of array values along the path (16 = 1 + 3 + 12)\n",
        "route_through_array(image, [0, 0], [1, 1], fully_connected=False,geometric=False)\n",
        "# Larger array where we display the path that is selected\n",
        "image = np.arange((36)).reshape((6, 6))\n",
        "\n",
        "# Find the path with lowest cost\n",
        "indices, weight = route_through_array(image, (0, 0), (5, 5))\n",
        "indices = np.stack(indices, axis=-1)\n",
        "path = np.zeros_like(image)\n",
        "path[indices[0], indices[1]] = 1\n",
        "path\n",
        "\n",
        "\n"
      ],
      "execution_count": 7,
      "outputs": [
        {
          "output_type": "execute_result",
          "data": {
            "text/plain": [
              "array([[ 1,  3],\n",
              "       [10, 12]])"
            ]
          },
          "metadata": {
            "tags": []
          },
          "execution_count": 7
        }
      ]
    },
    {
      "cell_type": "code",
      "metadata": {
        "id": "PitLAVOBQnIx"
      },
      "source": [
        "\n"
      ],
      "execution_count": null,
      "outputs": []
    },
    {
      "cell_type": "code",
      "metadata": {
        "colab": {
          "base_uri": "https://localhost:8080/"
        },
        "id": "cgNqpHwHPGk7",
        "outputId": "1507fa58-5434-43b1-de16-cde5147bc69f"
      },
      "source": [
        "import numpy as np\n",
        "import skimage.graph\n",
        "\n",
        "T,F = True,False\n",
        "array = np.asarray(\n",
        "    [[T, F, F, T],\n",
        "     [T, T, F, T],\n",
        "     [F, T, T, F],\n",
        "     [T, T, T, T]])\n",
        "costs = np.where(array, 1, 1000)\n",
        "path, cost = skimage.graph.route_through_array(costs, start=(0,0), end=(3,3), fully_connected=True)\n",
        "\n",
        "path"
      ],
      "execution_count": 4,
      "outputs": [
        {
          "output_type": "execute_result",
          "data": {
            "text/plain": [
              "[(0, 0), (1, 1), (2, 2), (3, 3)]"
            ]
          },
          "metadata": {
            "tags": []
          },
          "execution_count": 4
        }
      ]
    },
    {
      "cell_type": "code",
      "metadata": {
        "colab": {
          "base_uri": "https://localhost:8080/"
        },
        "id": "DD5v5lC3PTzI",
        "outputId": "cc826e72-4414-4d96-a408-aa9d97e4e20d"
      },
      "source": [
        "array"
      ],
      "execution_count": 5,
      "outputs": [
        {
          "output_type": "execute_result",
          "data": {
            "text/plain": [
              "array([[ True, False, False,  True],\n",
              "       [ True,  True, False,  True],\n",
              "       [False,  True,  True, False],\n",
              "       [ True,  True,  True,  True]])"
            ]
          },
          "metadata": {
            "tags": []
          },
          "execution_count": 5
        }
      ]
    },
    {
      "cell_type": "code",
      "metadata": {
        "colab": {
          "base_uri": "https://localhost:8080/"
        },
        "id": "EjqkdNktQVT9",
        "outputId": "9fa67e48-3f32-46e0-935b-d6768035d3d0"
      },
      "source": [
        "costs"
      ],
      "execution_count": 6,
      "outputs": [
        {
          "output_type": "execute_result",
          "data": {
            "text/plain": [
              "array([[   1, 1000, 1000,    1],\n",
              "       [   1,    1, 1000,    1],\n",
              "       [1000,    1,    1, 1000],\n",
              "       [   1,    1,    1,    1]])"
            ]
          },
          "metadata": {
            "tags": []
          },
          "execution_count": 6
        }
      ]
    },
    {
      "cell_type": "code",
      "metadata": {
        "id": "yJX-bDbUQWQm"
      },
      "source": [
        ""
      ],
      "execution_count": null,
      "outputs": []
    }
  ]
}