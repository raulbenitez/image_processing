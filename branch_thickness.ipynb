{
  "nbformat": 4,
  "nbformat_minor": 0,
  "metadata": {
    "colab": {
      "name": "branch_thickness.ipynb",
      "provenance": [],
      "include_colab_link": true
    },
    "kernelspec": {
      "name": "python3",
      "display_name": "Python 3"
    }
  },
  "cells": [
    {
      "cell_type": "markdown",
      "metadata": {
        "id": "view-in-github",
        "colab_type": "text"
      },
      "source": [
        "<a href=\"https://colab.research.google.com/github/raulbenitez/image_processing/blob/master/branch_thickness.ipynb\" target=\"_parent\"><img src=\"https://colab.research.google.com/assets/colab-badge.svg\" alt=\"Open In Colab\"/></a>"
      ]
    },
    {
      "cell_type": "code",
      "metadata": {
        "colab": {
          "base_uri": "https://localhost:8080/",
          "height": 478
        },
        "id": "89qHixAwUqxI",
        "outputId": "21e5e7d1-542f-42dc-cafe-e3e3e0b4bed8"
      },
      "source": [
        "import numpy as np\n",
        "import matplotlib.pyplot as plt\n",
        "import skimage as sk\n",
        "from skimage import io\n",
        "\n",
        "\n",
        "I = np.array(([0,1,1,1,1],\n",
        "                  [0,0,1,1,1],\n",
        "                  [0,1,1,1,1],\n",
        "                  [0,1,1,1,0],\n",
        "                  [0,1,1,0,0]))\n",
        "\n",
        "fig = plt.figure(figsize=(10,6))\n",
        "sk.io.imshow(I) # visualize image using imshow function\n",
        "sk.io.show()\n",
        "\n"
      ],
      "execution_count": null,
      "outputs": [
        {
          "output_type": "stream",
          "text": [
            "/usr/local/lib/python3.7/dist-packages/skimage/io/_plugins/matplotlib_plugin.py:150: UserWarning: Low image data range; displaying image with stretched contrast.\n",
            "  lo, hi, cmap = _get_display_range(image)\n"
          ],
          "name": "stderr"
        },
        {
          "output_type": "display_data",
          "data": {
            "image/png": "[encoded data removed]",
            "text/plain": [
              "<Figure size 720x432 with 2 Axes>"
            ]
          },
          "metadata": {
            "tags": [],
            "needs_background": "light"
          }
        }
      ]
    },
    {
      "cell_type": "code",
      "metadata": {
        "colab": {
          "base_uri": "https://localhost:8080/",
          "height": 478
        },
        "id": "SyICqF4iUrUz",
        "outputId": "d5a03cad-0b92-4c5c-f9bb-5802c962d8e5"
      },
      "source": [
        "\n",
        "from scipy import ndimage\n",
        "edt = ndimage.distance_transform_edt(I)\n",
        "\n",
        "fig = plt.figure(figsize=(10,6))\n",
        "sk.io.imshow(edt) # visualize image using imshow function\n",
        "sk.io.show()"
      ],
      "execution_count": null,
      "outputs": [
        {
          "output_type": "stream",
          "text": [
            "/usr/local/lib/python3.7/dist-packages/skimage/io/_plugins/matplotlib_plugin.py:150: UserWarning: Float image out of standard range; displaying image with stretched contrast.\n",
            "  lo, hi, cmap = _get_display_range(image)\n"
          ],
          "name": "stderr"
        },
        {
          "output_type": "display_data",
          "data": {
            "image/png": "[encoded data removed]",
            "text/plain": [
              "<Figure size 720x432 with 2 Axes>"
            ]
          },
          "metadata": {
            "tags": [],
            "needs_background": "light"
          }
        }
      ]
    },
    {
      "cell_type": "code",
      "metadata": {
        "id": "9fp8RyhlVF6C",
        "colab": {
          "base_uri": "https://localhost:8080/"
        },
        "outputId": "0932451a-b3c9-4a38-d9a4-498672497603"
      },
      "source": [
        "edt"
      ],
      "execution_count": null,
      "outputs": [
        {
          "output_type": "execute_result",
          "data": {
            "text/plain": [
              "array([[0.        , 1.        , 1.41421356, 2.23606798, 3.        ],\n",
              "       [0.        , 0.        , 1.        , 2.        , 2.        ],\n",
              "       [0.        , 1.        , 1.41421356, 1.41421356, 1.        ],\n",
              "       [0.        , 1.        , 1.41421356, 1.        , 0.        ],\n",
              "       [0.        , 1.        , 1.        , 0.        , 0.        ]])"
            ]
          },
          "metadata": {
            "tags": []
          },
          "execution_count": 6
        }
      ]
    },
    {
      "cell_type": "code",
      "metadata": {
        "id": "Cl9KPmVlaw5e"
      },
      "source": [
        ""
      ],
      "execution_count": null,
      "outputs": []
    }
  ]
}